{
 "cells": [
  {
   "cell_type": "markdown",
   "id": "eb342b03-a726-4bd4-9129-861dc3071429",
   "metadata": {},
   "source": [
    "# GPU enabled Kubeflow notebook\n",
    "In this notebook we demonstrate multi GPU training using tensorflow framework. In the example we use convolutional neural network for image classification trained on cifar10 dataset. \n",
    "\n",
    "Example was tested using a [Kubeflow Notebook](https://www.kubeflow.org/docs/components/notebooks/) in [Charmed Kubeflow](https://charmed-kubeflow.io/).  The notebook used here was deployed with 8 NVIDIA GPUs.\n",
    "\n",
    "**Important**\n",
    "\n",
    "This example was tested on drivers:\n",
    "```\n",
    "NVIDIA-SMI 515.48.07    Driver Version: 515.48.07    CUDA Version: 11.7\n",
    "```\n",
    "And ```tensorflow-gpu==2.10.0```. Check rest of the requirements in the attatched `requirements.txt`."
   ]
  },
  {
   "cell_type": "code",
   "execution_count": 1,
   "id": "55c408ce-dcf1-493d-82f1-bc646dcb3fb2",
   "metadata": {},
   "outputs": [
    {
     "name": "stderr",
     "output_type": "stream",
     "text": [
      "2023-02-24 15:51:07.798852: I tensorflow/core/platform/cpu_feature_guard.cc:193] This TensorFlow binary is optimized with oneAPI Deep Neural Network Library (oneDNN) to use the following CPU instructions in performance-critical operations:  AVX2 FMA\n",
      "To enable them in other operations, rebuild TensorFlow with the appropriate compiler flags.\n",
      "2023-02-24 15:51:07.953939: E tensorflow/stream_executor/cuda/cuda_blas.cc:2981] Unable to register cuBLAS factory: Attempting to register factory for plugin cuBLAS when one has already been registered\n",
      "2023-02-24 15:51:08.614887: W tensorflow/stream_executor/platform/default/dso_loader.cc:64] Could not load dynamic library 'libnvinfer.so.7'; dlerror: libnvrtc.so.11.1: cannot open shared object file: No such file or directory; LD_LIBRARY_PATH: /usr/local/cuda/extras/CUPTI/lib64:/usr/local/cuda/lib64:/usr/local/nvidia/lib:/usr/local/nvidia/lib64\n",
      "2023-02-24 15:51:08.615058: W tensorflow/stream_executor/platform/default/dso_loader.cc:64] Could not load dynamic library 'libnvinfer_plugin.so.7'; dlerror: libnvrtc.so.11.1: cannot open shared object file: No such file or directory; LD_LIBRARY_PATH: /usr/local/cuda/extras/CUPTI/lib64:/usr/local/cuda/lib64:/usr/local/nvidia/lib:/usr/local/nvidia/lib64\n",
      "2023-02-24 15:51:08.615067: W tensorflow/compiler/tf2tensorrt/utils/py_utils.cc:38] TF-TRT Warning: Cannot dlopen some TensorRT libraries. If you would like to use Nvidia GPU with TensorRT, please make sure the missing libraries mentioned above are installed properly.\n",
      "/opt/conda/lib/python3.8/site-packages/scipy/__init__.py:146: UserWarning: A NumPy version >=1.16.5 and <1.23.0 is required for this version of SciPy (detected version 1.24.2\n",
      "  warnings.warn(f\"A NumPy version >={np_minversion} and <{np_maxversion}\"\n"
     ]
    },
    {
     "data": {
      "text/plain": [
       "[PhysicalDevice(name='/physical_device:CPU:0', device_type='CPU'),\n",
       " PhysicalDevice(name='/physical_device:GPU:0', device_type='GPU'),\n",
       " PhysicalDevice(name='/physical_device:GPU:1', device_type='GPU'),\n",
       " PhysicalDevice(name='/physical_device:GPU:2', device_type='GPU'),\n",
       " PhysicalDevice(name='/physical_device:GPU:3', device_type='GPU'),\n",
       " PhysicalDevice(name='/physical_device:GPU:4', device_type='GPU'),\n",
       " PhysicalDevice(name='/physical_device:GPU:5', device_type='GPU'),\n",
       " PhysicalDevice(name='/physical_device:GPU:6', device_type='GPU'),\n",
       " PhysicalDevice(name='/physical_device:GPU:7', device_type='GPU')]"
      ]
     },
     "execution_count": 1,
     "metadata": {},
     "output_type": "execute_result"
    }
   ],
   "source": [
    "# Import libs and setup environment\n",
    "import tensorflow as tf\n",
    "from tensorflow import keras\n",
    "import numpy as np\n",
    "import matplotlib.pyplot as plt\n",
    "import os\n",
    "\n",
    "from tensorflow.keras.models import Sequential\n",
    "from tensorflow.keras.layers import Conv2D\n",
    "from tensorflow.keras.layers import MaxPooling2D\n",
    "from tensorflow.keras.layers import Dense\n",
    "from tensorflow.keras.layers import Flatten\n",
    "\n",
    "# Set for optimized memory usage\n",
    "# os.environ[\"TF_GPU_ALLOCATOR\"] = \"cuda_malloc_async\"\n",
    "# os.environ[\"NCCL_DEBUG\"] = \"WARN\"\n",
    "\n",
    "# Allow to use whole GPU memory\n",
    "# config = tf.compat.v1.ConfigProto()\n",
    "# config.gpu_options.allow_growth = True\n",
    "\n",
    "tf.config.experimental.list_physical_devices()"
   ]
  },
  {
   "cell_type": "code",
   "execution_count": 2,
   "id": "a9c9a06c-af1a-429a-af2c-9edd43ca2fc4",
   "metadata": {},
   "outputs": [
    {
     "data": {
      "text/plain": [
       "['GPU:0', 'GPU:1', 'GPU:2', 'GPU:3', 'GPU:4', 'GPU:5', 'GPU:6', 'GPU:7']"
      ]
     },
     "execution_count": 2,
     "metadata": {},
     "output_type": "execute_result"
    }
   ],
   "source": [
    "# Extract GPU device names\n",
    "device_type = 'GPU'\n",
    "devices = tf.config.experimental.list_physical_devices(\n",
    "          device_type)\n",
    "devices_names = [d.name.split(\"e:\")[1] for d in devices]\n",
    "devices_names"
   ]
  },
  {
   "cell_type": "code",
   "execution_count": 3,
   "id": "b415917c-a91c-44f1-8452-a3ac22acde28",
   "metadata": {},
   "outputs": [
    {
     "data": {
      "text/plain": [
       "((50000, 32, 32, 3), (10000, 32, 32, 3))"
      ]
     },
     "execution_count": 3,
     "metadata": {},
     "output_type": "execute_result"
    }
   ],
   "source": [
    "# Image recognition dataset for 10 class prediction\n",
    "# https://www.cs.toronto.edu/~kriz/cifar.html\n",
    "# Image has 32x32x3 resolution\n",
    "(X_train, y_train), (X_test, y_test) = keras.datasets.cifar10.load_data()\n",
    "X_train.shape, X_test.shape"
   ]
  },
  {
   "cell_type": "code",
   "execution_count": 4,
   "id": "d9b0934e-e543-4ce4-a216-596b40b4ba9d",
   "metadata": {},
   "outputs": [],
   "source": [
    "# Scaling image values between 0-1\n",
    "X_train_scaled = X_train/255\n",
    "X_test_scaled = X_test/255"
   ]
  },
  {
   "cell_type": "code",
   "execution_count": 5,
   "id": "7c5e159c-114d-48fe-9b9d-cdad612e018d",
   "metadata": {},
   "outputs": [],
   "source": [
    "# One hot encoding labels\n",
    "y_train_encoded = keras.utils.to_categorical(y_train, num_classes = 10, dtype = 'float32')\n",
    "y_test_encoded = keras.utils.to_categorical(y_test, num_classes = 10, dtype = 'float32')"
   ]
  },
  {
   "cell_type": "code",
   "execution_count": 6,
   "id": "00bc97ff-b52c-44ee-8251-90a3a98c0e6d",
   "metadata": {},
   "outputs": [],
   "source": [
    "def get_model():\n",
    "    '''\n",
    "    Create simple deep model. 3 hidden layers. \n",
    "    '''\n",
    "    strategy = tf.distribute.MirroredStrategy(\n",
    "           devices=devices_names)\n",
    "    with strategy.scope():\n",
    "        model = keras.Sequential([\n",
    "            keras.layers.Flatten(input_shape=(32,32,3)),\n",
    "            keras.layers.Dense(3000, activation='relu'),\n",
    "            keras.layers.Dense(1000, activation='relu'),\n",
    "            keras.layers.Dense(10, activation='sigmoid')    \n",
    "        ])\n",
    "        model.compile(optimizer='SGD',\n",
    "                  loss='categorical_crossentropy',\n",
    "                  metrics=['accuracy'])\n",
    "    return model"
   ]
  },
  {
   "cell_type": "code",
   "execution_count": 7,
   "id": "0afaa789-2a6d-4705-b629-b37f3fab968c",
   "metadata": {},
   "outputs": [],
   "source": [
    "def get_model_cnn():\n",
    "    '''\n",
    "    Create More sophisticated model. Using mirrored distributed training strategy\n",
    "    Reading: https://www.tensorflow.org/guide/distributed_training#mirroredstrategy\n",
    "    '''\n",
    "    strategy = tf.distribute.MirroredStrategy(\n",
    "           devices=devices_names)\n",
    "    with strategy.scope():\n",
    "        model = keras.models.Sequential()\n",
    "        model.add(Conv2D(32, (3, 3), activation='relu', kernel_initializer='he_uniform', padding='same', input_shape=(32, 32, 3)))\n",
    "        model.add(Conv2D(32, (3, 3), activation='relu', kernel_initializer='he_uniform', padding='same'))\n",
    "        model.add(MaxPooling2D((2, 2)))\n",
    "        model.add(Flatten())\n",
    "        model.add(Dense(128, activation='relu', kernel_initializer='he_uniform'))\n",
    "        model.add(Dense(10, activation='softmax'))\n",
    "        # compile model\n",
    "        opt = keras.optimizers.SGD(lr=0.001, momentum=0.9)\n",
    "        model.compile(optimizer=opt, loss='categorical_crossentropy', metrics=['accuracy'])\n",
    "        return model"
   ]
  },
  {
   "cell_type": "code",
   "execution_count": 8,
   "id": "1f017e54-a8e1-427e-8420-91c1f7aa38c3",
   "metadata": {},
   "outputs": [
    {
     "name": "stderr",
     "output_type": "stream",
     "text": [
      "2023-02-24 15:51:18.842049: I tensorflow/core/platform/cpu_feature_guard.cc:193] This TensorFlow binary is optimized with oneAPI Deep Neural Network Library (oneDNN) to use the following CPU instructions in performance-critical operations:  AVX2 FMA\n",
      "To enable them in other operations, rebuild TensorFlow with the appropriate compiler flags.\n",
      "2023-02-24 15:51:22.965724: I tensorflow/core/common_runtime/gpu/gpu_device.cc:1616] Created device /job:localhost/replica:0/task:0/device:GPU:0 with 38406 MB memory:  -> device: 0, name: NVIDIA A100-SXM4-40GB, pci bus id: 0000:07:00.0, compute capability: 8.0\n",
      "2023-02-24 15:51:22.968850: I tensorflow/core/common_runtime/gpu/gpu_device.cc:1616] Created device /job:localhost/replica:0/task:0/device:GPU:1 with 38406 MB memory:  -> device: 1, name: NVIDIA A100-SXM4-40GB, pci bus id: 0000:0f:00.0, compute capability: 8.0\n",
      "2023-02-24 15:51:22.971765: I tensorflow/core/common_runtime/gpu/gpu_device.cc:1616] Created device /job:localhost/replica:0/task:0/device:GPU:2 with 38406 MB memory:  -> device: 2, name: NVIDIA A100-SXM4-40GB, pci bus id: 0000:47:00.0, compute capability: 8.0\n",
      "2023-02-24 15:51:22.974707: I tensorflow/core/common_runtime/gpu/gpu_device.cc:1616] Created device /job:localhost/replica:0/task:0/device:GPU:3 with 38406 MB memory:  -> device: 3, name: NVIDIA A100-SXM4-40GB, pci bus id: 0000:4e:00.0, compute capability: 8.0\n",
      "2023-02-24 15:51:22.977616: I tensorflow/core/common_runtime/gpu/gpu_device.cc:1616] Created device /job:localhost/replica:0/task:0/device:GPU:4 with 38406 MB memory:  -> device: 4, name: NVIDIA A100-SXM4-40GB, pci bus id: 0000:87:00.0, compute capability: 8.0\n",
      "2023-02-24 15:51:22.980519: I tensorflow/core/common_runtime/gpu/gpu_device.cc:1616] Created device /job:localhost/replica:0/task:0/device:GPU:5 with 38406 MB memory:  -> device: 5, name: NVIDIA A100-SXM4-40GB, pci bus id: 0000:90:00.0, compute capability: 8.0\n",
      "2023-02-24 15:51:22.983454: I tensorflow/core/common_runtime/gpu/gpu_device.cc:1616] Created device /job:localhost/replica:0/task:0/device:GPU:6 with 38406 MB memory:  -> device: 6, name: NVIDIA A100-SXM4-40GB, pci bus id: 0000:b7:00.0, compute capability: 8.0\n",
      "2023-02-24 15:51:22.986288: I tensorflow/core/common_runtime/gpu/gpu_device.cc:1616] Created device /job:localhost/replica:0/task:0/device:GPU:7 with 38406 MB memory:  -> device: 7, name: NVIDIA A100-SXM4-40GB, pci bus id: 0000:bd:00.0, compute capability: 8.0\n"
     ]
    },
    {
     "name": "stdout",
     "output_type": "stream",
     "text": [
      "INFO:tensorflow:Using MirroredStrategy with devices ('/job:localhost/replica:0/task:0/device:GPU:0', '/job:localhost/replica:0/task:0/device:GPU:1', '/job:localhost/replica:0/task:0/device:GPU:2', '/job:localhost/replica:0/task:0/device:GPU:3', '/job:localhost/replica:0/task:0/device:GPU:4', '/job:localhost/replica:0/task:0/device:GPU:5', '/job:localhost/replica:0/task:0/device:GPU:6', '/job:localhost/replica:0/task:0/device:GPU:7')\n",
      "INFO:tensorflow:Reduce to /job:localhost/replica:0/task:0/device:CPU:0 then broadcast to ('/job:localhost/replica:0/task:0/device:CPU:0',).\n",
      "INFO:tensorflow:Reduce to /job:localhost/replica:0/task:0/device:CPU:0 then broadcast to ('/job:localhost/replica:0/task:0/device:CPU:0',).\n",
      "INFO:tensorflow:Reduce to /job:localhost/replica:0/task:0/device:CPU:0 then broadcast to ('/job:localhost/replica:0/task:0/device:CPU:0',).\n",
      "INFO:tensorflow:Reduce to /job:localhost/replica:0/task:0/device:CPU:0 then broadcast to ('/job:localhost/replica:0/task:0/device:CPU:0',).\n"
     ]
    },
    {
     "name": "stderr",
     "output_type": "stream",
     "text": [
      "/opt/conda/lib/python3.8/site-packages/keras/optimizers/optimizer_v2/gradient_descent.py:111: UserWarning: The `lr` argument is deprecated, use `learning_rate` instead.\n",
      "  super().__init__(name, **kwargs)\n"
     ]
    }
   ],
   "source": [
    "m = get_model_cnn()"
   ]
  },
  {
   "cell_type": "code",
   "execution_count": 10,
   "id": "133b484a-c72b-4077-9eac-72b6196feb2d",
   "metadata": {},
   "outputs": [
    {
     "name": "stdout",
     "output_type": "stream",
     "text": [
      "INFO:tensorflow:Using MirroredStrategy with devices ('/job:localhost/replica:0/task:0/device:GPU:0', '/job:localhost/replica:0/task:0/device:GPU:1', '/job:localhost/replica:0/task:0/device:GPU:2', '/job:localhost/replica:0/task:0/device:GPU:3', '/job:localhost/replica:0/task:0/device:GPU:4', '/job:localhost/replica:0/task:0/device:GPU:5', '/job:localhost/replica:0/task:0/device:GPU:6', '/job:localhost/replica:0/task:0/device:GPU:7')\n",
      "INFO:tensorflow:Reduce to /job:localhost/replica:0/task:0/device:CPU:0 then broadcast to ('/job:localhost/replica:0/task:0/device:CPU:0',).\n",
      "INFO:tensorflow:Reduce to /job:localhost/replica:0/task:0/device:CPU:0 then broadcast to ('/job:localhost/replica:0/task:0/device:CPU:0',).\n",
      "INFO:tensorflow:Reduce to /job:localhost/replica:0/task:0/device:CPU:0 then broadcast to ('/job:localhost/replica:0/task:0/device:CPU:0',).\n",
      "INFO:tensorflow:Reduce to /job:localhost/replica:0/task:0/device:CPU:0 then broadcast to ('/job:localhost/replica:0/task:0/device:CPU:0',).\n",
      "Epoch 1/100\n",
      "INFO:tensorflow:batch_all_reduce: 8 all-reduces with algorithm = nccl, num_packs = 1\n",
      "INFO:tensorflow:Reduce to /job:localhost/replica:0/task:0/device:CPU:0 then broadcast to ('/job:localhost/replica:0/task:0/device:CPU:0',).\n",
      "INFO:tensorflow:Reduce to /job:localhost/replica:0/task:0/device:CPU:0 then broadcast to ('/job:localhost/replica:0/task:0/device:CPU:0',).\n",
      "INFO:tensorflow:batch_all_reduce: 8 all-reduces with algorithm = nccl, num_packs = 1\n"
     ]
    },
    {
     "name": "stderr",
     "output_type": "stream",
     "text": [
      "2023-02-24 15:51:44.273393: I tensorflow/stream_executor/cuda/cuda_dnn.cc:384] Loaded cuDNN version 8100\n",
      "2023-02-24 15:51:45.146582: I tensorflow/stream_executor/cuda/cuda_dnn.cc:384] Loaded cuDNN version 8100\n",
      "2023-02-24 15:51:46.105967: I tensorflow/stream_executor/cuda/cuda_dnn.cc:384] Loaded cuDNN version 8100\n",
      "2023-02-24 15:51:47.399241: I tensorflow/stream_executor/cuda/cuda_dnn.cc:384] Loaded cuDNN version 8100\n",
      "2023-02-24 15:51:48.558755: I tensorflow/stream_executor/cuda/cuda_dnn.cc:384] Loaded cuDNN version 8100\n",
      "2023-02-24 15:51:48.973089: I tensorflow/stream_executor/cuda/cuda_blas.cc:1614] TensorFloat-32 will be used for the matrix multiplication. This will only be logged once.\n",
      "2023-02-24 15:51:49.983410: I tensorflow/stream_executor/cuda/cuda_dnn.cc:384] Loaded cuDNN version 8100\n",
      "2023-02-24 15:51:50.990104: I tensorflow/stream_executor/cuda/cuda_dnn.cc:384] Loaded cuDNN version 8100\n",
      "2023-02-24 15:51:52.059061: I tensorflow/stream_executor/cuda/cuda_dnn.cc:384] Loaded cuDNN version 8100\n"
     ]
    },
    {
     "name": "stdout",
     "output_type": "stream",
     "text": [
      "196/196 [==============================] - 25s 11ms/step - loss: 2.0000 - accuracy: 0.2838\n",
      "Epoch 2/100\n",
      "196/196 [==============================] - 2s 9ms/step - loss: 1.7467 - accuracy: 0.3904\n",
      "Epoch 3/100\n",
      "196/196 [==============================] - 1s 7ms/step - loss: 1.6133 - accuracy: 0.4343\n",
      "Epoch 4/100\n",
      "196/196 [==============================] - 2s 9ms/step - loss: 1.5242 - accuracy: 0.4639\n",
      "Epoch 5/100\n",
      "196/196 [==============================] - 2s 8ms/step - loss: 1.4557 - accuracy: 0.4864\n",
      "Epoch 6/100\n",
      "196/196 [==============================] - 1s 7ms/step - loss: 1.4026 - accuracy: 0.5065\n",
      "Epoch 7/100\n",
      "196/196 [==============================] - 1s 7ms/step - loss: 1.3613 - accuracy: 0.5196\n",
      "Epoch 8/100\n",
      "196/196 [==============================] - 1s 7ms/step - loss: 1.3138 - accuracy: 0.5385\n",
      "Epoch 9/100\n",
      "196/196 [==============================] - 1s 8ms/step - loss: 1.2762 - accuracy: 0.5506\n",
      "Epoch 10/100\n",
      "196/196 [==============================] - 2s 8ms/step - loss: 1.2404 - accuracy: 0.5642\n",
      "Epoch 11/100\n",
      "196/196 [==============================] - 1s 7ms/step - loss: 1.2059 - accuracy: 0.5806\n",
      "Epoch 12/100\n",
      "196/196 [==============================] - 1s 7ms/step - loss: 1.1764 - accuracy: 0.5887\n",
      "Epoch 13/100\n",
      "196/196 [==============================] - 2s 8ms/step - loss: 1.1468 - accuracy: 0.6005\n",
      "Epoch 14/100\n",
      "196/196 [==============================] - 1s 7ms/step - loss: 1.1098 - accuracy: 0.6149\n",
      "Epoch 15/100\n",
      "196/196 [==============================] - 1s 8ms/step - loss: 1.0934 - accuracy: 0.6211\n",
      "Epoch 16/100\n",
      "196/196 [==============================] - 1s 7ms/step - loss: 1.0582 - accuracy: 0.6343\n",
      "Epoch 17/100\n",
      "196/196 [==============================] - 1s 7ms/step - loss: 1.0396 - accuracy: 0.6399\n",
      "Epoch 18/100\n",
      "196/196 [==============================] - 1s 7ms/step - loss: 1.0092 - accuracy: 0.6518\n",
      "Epoch 19/100\n",
      "196/196 [==============================] - 1s 7ms/step - loss: 0.9895 - accuracy: 0.6582\n",
      "Epoch 20/100\n",
      "196/196 [==============================] - 1s 7ms/step - loss: 0.9748 - accuracy: 0.6626\n",
      "Epoch 21/100\n",
      "196/196 [==============================] - 1s 7ms/step - loss: 0.9442 - accuracy: 0.6745\n",
      "Epoch 22/100\n",
      "196/196 [==============================] - 1s 7ms/step - loss: 0.9300 - accuracy: 0.6794\n",
      "Epoch 23/100\n",
      "196/196 [==============================] - 2s 8ms/step - loss: 0.9084 - accuracy: 0.6869\n",
      "Epoch 24/100\n",
      "196/196 [==============================] - 1s 7ms/step - loss: 0.8917 - accuracy: 0.6937\n",
      "Epoch 25/100\n",
      "196/196 [==============================] - 1s 7ms/step - loss: 0.8722 - accuracy: 0.7006\n",
      "Epoch 26/100\n",
      "196/196 [==============================] - 1s 7ms/step - loss: 0.8537 - accuracy: 0.7063\n",
      "Epoch 27/100\n",
      "196/196 [==============================] - 1s 7ms/step - loss: 0.8352 - accuracy: 0.7134\n",
      "Epoch 28/100\n",
      "196/196 [==============================] - 1s 7ms/step - loss: 0.8253 - accuracy: 0.7154\n",
      "Epoch 29/100\n",
      "196/196 [==============================] - 1s 7ms/step - loss: 0.8043 - accuracy: 0.7239\n",
      "Epoch 30/100\n",
      "196/196 [==============================] - 1s 7ms/step - loss: 0.7907 - accuracy: 0.7295\n",
      "Epoch 31/100\n",
      "196/196 [==============================] - 1s 7ms/step - loss: 0.7763 - accuracy: 0.7333\n",
      "Epoch 32/100\n",
      "196/196 [==============================] - 1s 7ms/step - loss: 0.7592 - accuracy: 0.7405\n",
      "Epoch 33/100\n",
      "196/196 [==============================] - 1s 7ms/step - loss: 0.7443 - accuracy: 0.7460\n",
      "Epoch 34/100\n",
      "196/196 [==============================] - 1s 7ms/step - loss: 0.7288 - accuracy: 0.7509\n",
      "Epoch 35/100\n",
      "196/196 [==============================] - 1s 8ms/step - loss: 0.7185 - accuracy: 0.7551\n",
      "Epoch 36/100\n",
      "196/196 [==============================] - 1s 8ms/step - loss: 0.7030 - accuracy: 0.7589\n",
      "Epoch 37/100\n",
      "196/196 [==============================] - 1s 6ms/step - loss: 0.6924 - accuracy: 0.7644\n",
      "Epoch 38/100\n",
      "196/196 [==============================] - 1s 7ms/step - loss: 0.6766 - accuracy: 0.7697\n",
      "Epoch 39/100\n",
      "196/196 [==============================] - 1s 6ms/step - loss: 0.6603 - accuracy: 0.7772\n",
      "Epoch 40/100\n",
      "196/196 [==============================] - 1s 6ms/step - loss: 0.6535 - accuracy: 0.7775\n",
      "Epoch 41/100\n",
      "196/196 [==============================] - 1s 7ms/step - loss: 0.6373 - accuracy: 0.7837\n",
      "Epoch 42/100\n",
      "196/196 [==============================] - 1s 6ms/step - loss: 0.6272 - accuracy: 0.7883\n",
      "Epoch 43/100\n",
      "196/196 [==============================] - 1s 7ms/step - loss: 0.6086 - accuracy: 0.7933\n",
      "Epoch 44/100\n",
      "196/196 [==============================] - 1s 6ms/step - loss: 0.5998 - accuracy: 0.7967\n",
      "Epoch 45/100\n",
      "196/196 [==============================] - 2s 8ms/step - loss: 0.5823 - accuracy: 0.8042\n",
      "Epoch 46/100\n",
      "196/196 [==============================] - 1s 7ms/step - loss: 0.5686 - accuracy: 0.8108\n",
      "Epoch 47/100\n",
      "196/196 [==============================] - 1s 6ms/step - loss: 0.5595 - accuracy: 0.8117\n",
      "Epoch 48/100\n",
      "196/196 [==============================] - 1s 6ms/step - loss: 0.5446 - accuracy: 0.8183\n",
      "Epoch 49/100\n",
      "196/196 [==============================] - 1s 7ms/step - loss: 0.5310 - accuracy: 0.8235\n",
      "Epoch 50/100\n",
      "196/196 [==============================] - 1s 7ms/step - loss: 0.5207 - accuracy: 0.8275\n",
      "Epoch 51/100\n",
      "196/196 [==============================] - 1s 7ms/step - loss: 0.5039 - accuracy: 0.8335\n",
      "Epoch 52/100\n",
      "196/196 [==============================] - 1s 6ms/step - loss: 0.4959 - accuracy: 0.8363\n",
      "Epoch 53/100\n",
      "196/196 [==============================] - 1s 6ms/step - loss: 0.4808 - accuracy: 0.8422\n",
      "Epoch 54/100\n",
      "196/196 [==============================] - 1s 6ms/step - loss: 0.4647 - accuracy: 0.8488\n",
      "Epoch 55/100\n",
      "196/196 [==============================] - 1s 6ms/step - loss: 0.4549 - accuracy: 0.8496\n",
      "Epoch 56/100\n",
      "196/196 [==============================] - 1s 6ms/step - loss: 0.4413 - accuracy: 0.8560\n",
      "Epoch 57/100\n",
      "196/196 [==============================] - 1s 6ms/step - loss: 0.4328 - accuracy: 0.8594\n",
      "Epoch 58/100\n",
      "196/196 [==============================] - 1s 6ms/step - loss: 0.4208 - accuracy: 0.8629\n",
      "Epoch 59/100\n",
      "196/196 [==============================] - 1s 6ms/step - loss: 0.4070 - accuracy: 0.8699\n",
      "Epoch 60/100\n",
      "196/196 [==============================] - 1s 6ms/step - loss: 0.3914 - accuracy: 0.8762\n",
      "Epoch 61/100\n",
      "196/196 [==============================] - 1s 7ms/step - loss: 0.3813 - accuracy: 0.8790\n",
      "Epoch 62/100\n",
      "196/196 [==============================] - 1s 6ms/step - loss: 0.3727 - accuracy: 0.8819\n",
      "Epoch 63/100\n",
      "196/196 [==============================] - 1s 6ms/step - loss: 0.3558 - accuracy: 0.8888\n",
      "Epoch 64/100\n",
      "196/196 [==============================] - 1s 6ms/step - loss: 0.3435 - accuracy: 0.8931\n",
      "Epoch 65/100\n",
      "196/196 [==============================] - 1s 7ms/step - loss: 0.3331 - accuracy: 0.8963\n",
      "Epoch 66/100\n",
      "196/196 [==============================] - 1s 6ms/step - loss: 0.3221 - accuracy: 0.9014\n",
      "Epoch 67/100\n",
      "196/196 [==============================] - 1s 7ms/step - loss: 0.3095 - accuracy: 0.9062\n",
      "Epoch 68/100\n",
      "196/196 [==============================] - 1s 7ms/step - loss: 0.2934 - accuracy: 0.9137\n",
      "Epoch 69/100\n",
      "196/196 [==============================] - 1s 6ms/step - loss: 0.2875 - accuracy: 0.9131\n",
      "Epoch 70/100\n",
      "196/196 [==============================] - 1s 6ms/step - loss: 0.2736 - accuracy: 0.9202\n",
      "Epoch 71/100\n",
      "196/196 [==============================] - 1s 6ms/step - loss: 0.2697 - accuracy: 0.9200\n",
      "Epoch 72/100\n",
      "196/196 [==============================] - 1s 6ms/step - loss: 0.2525 - accuracy: 0.9275\n",
      "Epoch 73/100\n",
      "196/196 [==============================] - 1s 6ms/step - loss: 0.2365 - accuracy: 0.9350\n",
      "Epoch 74/100\n",
      "196/196 [==============================] - 1s 6ms/step - loss: 0.2249 - accuracy: 0.9390\n",
      "Epoch 75/100\n",
      "196/196 [==============================] - 1s 6ms/step - loss: 0.2225 - accuracy: 0.9385\n",
      "Epoch 76/100\n",
      "196/196 [==============================] - 1s 6ms/step - loss: 0.2081 - accuracy: 0.9457\n",
      "Epoch 77/100\n",
      "196/196 [==============================] - 1s 6ms/step - loss: 0.1943 - accuracy: 0.9503\n",
      "Epoch 78/100\n",
      "196/196 [==============================] - 1s 6ms/step - loss: 0.1865 - accuracy: 0.9527\n",
      "Epoch 79/100\n",
      "196/196 [==============================] - 1s 7ms/step - loss: 0.1815 - accuracy: 0.9539\n",
      "Epoch 80/100\n",
      "196/196 [==============================] - 1s 6ms/step - loss: 0.1696 - accuracy: 0.9589\n",
      "Epoch 81/100\n",
      "196/196 [==============================] - 1s 7ms/step - loss: 0.1613 - accuracy: 0.9615\n",
      "Epoch 82/100\n",
      "196/196 [==============================] - 1s 6ms/step - loss: 0.1530 - accuracy: 0.9650\n",
      "Epoch 83/100\n",
      "196/196 [==============================] - 1s 6ms/step - loss: 0.1474 - accuracy: 0.9667\n",
      "Epoch 84/100\n",
      "196/196 [==============================] - 1s 7ms/step - loss: 0.1390 - accuracy: 0.9696\n",
      "Epoch 85/100\n",
      "196/196 [==============================] - 1s 6ms/step - loss: 0.1329 - accuracy: 0.9712\n",
      "Epoch 86/100\n",
      "196/196 [==============================] - 1s 6ms/step - loss: 0.1223 - accuracy: 0.9760\n",
      "Epoch 87/100\n",
      "196/196 [==============================] - 1s 6ms/step - loss: 0.1179 - accuracy: 0.9761\n",
      "Epoch 88/100\n",
      "196/196 [==============================] - 1s 6ms/step - loss: 0.1116 - accuracy: 0.9791\n",
      "Epoch 89/100\n",
      "196/196 [==============================] - 1s 6ms/step - loss: 0.1030 - accuracy: 0.9817\n",
      "Epoch 90/100\n",
      "196/196 [==============================] - 1s 6ms/step - loss: 0.1059 - accuracy: 0.9798\n",
      "Epoch 91/100\n",
      "196/196 [==============================] - 1s 6ms/step - loss: 0.0932 - accuracy: 0.9850\n",
      "Epoch 92/100\n",
      "196/196 [==============================] - 1s 7ms/step - loss: 0.0882 - accuracy: 0.9856\n",
      "Epoch 93/100\n",
      "196/196 [==============================] - 1s 6ms/step - loss: 0.0783 - accuracy: 0.9893\n",
      "Epoch 94/100\n",
      "196/196 [==============================] - 1s 6ms/step - loss: 0.0796 - accuracy: 0.9887\n",
      "Epoch 95/100\n",
      "196/196 [==============================] - 1s 6ms/step - loss: 0.0775 - accuracy: 0.9882\n",
      "Epoch 96/100\n",
      "196/196 [==============================] - 1s 6ms/step - loss: 0.0775 - accuracy: 0.9879\n",
      "Epoch 97/100\n",
      "196/196 [==============================] - 1s 6ms/step - loss: 0.0646 - accuracy: 0.9921\n",
      "Epoch 98/100\n",
      "196/196 [==============================] - 1s 6ms/step - loss: 0.0589 - accuracy: 0.9940\n",
      "Epoch 99/100\n",
      "196/196 [==============================] - 1s 6ms/step - loss: 0.0582 - accuracy: 0.9935\n",
      "Epoch 100/100\n",
      "196/196 [==============================] - 1s 6ms/step - loss: 0.0552 - accuracy: 0.9942\n"
     ]
    },
    {
     "data": {
      "text/plain": [
       "<keras.callbacks.History at 0x7fb864595790>"
      ]
     },
     "execution_count": 10,
     "metadata": {},
     "output_type": "execute_result"
    }
   ],
   "source": [
    "# MultiGPU prediction. Run nvidia-smi command in another terminal tab to check GPU ussage\n",
    "batch_size_per_gpu = 32\n",
    "n_gpus = len(devices_names)\n",
    "model_gpu = get_model_cnn()\n",
    "model_gpu.fit(X_train_scaled, y_train_encoded, epochs=100, batch_size=batch_size_per_gpu * n_gpus)"
   ]
  },
  {
   "cell_type": "code",
   "execution_count": 12,
   "id": "c639d608-f4f0-4063-9ed6-77bf43592bb5",
   "metadata": {},
   "outputs": [],
   "source": [
    "# # CPU only prediction\n",
    "# %%timeit -n1 -r1\n",
    "# # CPU\n",
    "# with tf.device('/CPU:0'):\n",
    "#     model_cpu = get_model()\n",
    "#     model_cpu.fit(X_train_scaled, y_train_encoded, epochs = 1)"
   ]
  },
  {
   "cell_type": "code",
   "execution_count": 13,
   "id": "bb4256de-d23a-4f0c-bcc2-1926de1bd2cc",
   "metadata": {},
   "outputs": [],
   "source": [
    "# # Single GPU example\n",
    "# %%timeit -n1 -r1\n",
    "# # GPU\n",
    "# with tf.device('GPU:0'):\n",
    "#     model_gpu = get_model()\n",
    "#     model_gpu.fit(X_train_scaled[:500], y_train_encoded[:500], epochs = 10)"
   ]
  },
  {
   "cell_type": "code",
   "execution_count": 14,
   "id": "b447961d-dbca-4086-a047-0d3b24658265",
   "metadata": {},
   "outputs": [
    {
     "name": "stdout",
     "output_type": "stream",
     "text": [
      "1563/1563 [==============================] - 8s 4ms/step\n"
     ]
    },
    {
     "data": {
      "text/plain": [
       "array([[1.8274143e-08, 4.9641289e-07, 2.3056466e-06, ..., 3.1217842e-06,\n",
       "        1.6067820e-06, 3.5467662e-07],\n",
       "       [4.7272952e-05, 4.4401992e-02, 6.8558115e-12, ..., 1.6050975e-16,\n",
       "        9.5554942e-01, 1.2385259e-06],\n",
       "       [9.6274596e-01, 5.7169900e-04, 1.4223373e-06, ..., 2.5707018e-07,\n",
       "        3.6452767e-02, 1.6477342e-04],\n",
       "       ...,\n",
       "       [1.6607229e-08, 7.4171147e-10, 2.4342506e-01, ..., 3.2161029e-06,\n",
       "        1.6595010e-04, 1.0971085e-05],\n",
       "       [3.8951438e-02, 2.3104828e-03, 8.3454677e-07, ..., 3.0839238e-09,\n",
       "        1.4882334e-09, 5.3805156e-09],\n",
       "       [6.7962800e-16, 1.1599146e-10, 3.5637537e-08, ..., 9.9998641e-01,\n",
       "        7.0848181e-11, 4.4483093e-09]], dtype=float32)"
      ]
     },
     "execution_count": 14,
     "metadata": {},
     "output_type": "execute_result"
    }
   ],
   "source": [
    "model_gpu.predict(np.concatenate([X_test_scaled, X_test_scaled, X_test_scaled, X_test_scaled, X_test_scaled])) # We multiplied the X_test to check GPU usage"
   ]
  }
 ],
 "metadata": {
  "kernelspec": {
   "display_name": "Python 3 (ipykernel)",
   "language": "python",
   "name": "python3"
  },
  "language_info": {
   "codemirror_mode": {
    "name": "ipython",
    "version": 3
   },
   "file_extension": ".py",
   "mimetype": "text/x-python",
   "name": "python",
   "nbconvert_exporter": "python",
   "pygments_lexer": "ipython3",
   "version": "3.8.10"
  },
  "vscode": {
   "interpreter": {
    "hash": "635db5889a8e7f14dda695c20229a76694a8038f010b71edc7a46486e7214d7d"
   }
  }
 },
 "nbformat": 4,
 "nbformat_minor": 5
}
