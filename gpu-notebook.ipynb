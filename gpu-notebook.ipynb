{
 "cells": [
  {
   "cell_type": "markdown",
   "id": "eb342b03-a726-4bd4-9129-861dc3071429",
   "metadata": {},
   "source": [
    "# GPU enabled Kubeflow notebook\n",
    "In this notebook we demonstrate multi GPU training using tensorflow framework. In the example we use convolutional neural network for image classification trained on cifar10 dataset. Example was tested on [charmed kubeflow](https://charmed-kubeflow.io/). \n",
    "\n",
    "**Important**\n",
    "\n",
    "This example was tested on drivers:\n",
    "```\n",
    "NVIDIA-SMI 515.48.07    Driver Version: 515.48.07    CUDA Version: 11.7\n",
    "```\n",
    "And ```tensorflow-gpu==2.10.0```. Check rest of the requirements in the attatched `requirements.txt`."
   ]
  },
  {
   "cell_type": "code",
   "execution_count": 1,
   "id": "55c408ce-dcf1-493d-82f1-bc646dcb3fb2",
   "metadata": {},
   "outputs": [
    {
     "name": "stderr",
     "output_type": "stream",
     "text": [
      "2023-02-17 21:34:24.823880: I tensorflow/core/platform/cpu_feature_guard.cc:193] This TensorFlow binary is optimized with oneAPI Deep Neural Network Library (oneDNN) to use the following CPU instructions in performance-critical operations:  AVX2 FMA\n",
      "To enable them in other operations, rebuild TensorFlow with the appropriate compiler flags.\n",
      "2023-02-17 21:34:24.982229: E tensorflow/stream_executor/cuda/cuda_blas.cc:2981] Unable to register cuBLAS factory: Attempting to register factory for plugin cuBLAS when one has already been registered\n",
      "2023-02-17 21:34:25.663971: W tensorflow/stream_executor/platform/default/dso_loader.cc:64] Could not load dynamic library 'libnvinfer.so.7'; dlerror: libnvrtc.so.11.1: cannot open shared object file: No such file or directory; LD_LIBRARY_PATH: /usr/local/cuda/extras/CUPTI/lib64:/usr/local/cuda/lib64:/usr/local/nvidia/lib:/usr/local/nvidia/lib64\n",
      "2023-02-17 21:34:25.664143: W tensorflow/stream_executor/platform/default/dso_loader.cc:64] Could not load dynamic library 'libnvinfer_plugin.so.7'; dlerror: libnvrtc.so.11.1: cannot open shared object file: No such file or directory; LD_LIBRARY_PATH: /usr/local/cuda/extras/CUPTI/lib64:/usr/local/cuda/lib64:/usr/local/nvidia/lib:/usr/local/nvidia/lib64\n",
      "2023-02-17 21:34:25.664151: W tensorflow/compiler/tf2tensorrt/utils/py_utils.cc:38] TF-TRT Warning: Cannot dlopen some TensorRT libraries. If you would like to use Nvidia GPU with TensorRT, please make sure the missing libraries mentioned above are installed properly.\n"
     ]
    },
    {
     "data": {
      "text/plain": [
       "[PhysicalDevice(name='/physical_device:CPU:0', device_type='CPU'),\n",
       " PhysicalDevice(name='/physical_device:GPU:0', device_type='GPU'),\n",
       " PhysicalDevice(name='/physical_device:GPU:1', device_type='GPU'),\n",
       " PhysicalDevice(name='/physical_device:GPU:2', device_type='GPU'),\n",
       " PhysicalDevice(name='/physical_device:GPU:3', device_type='GPU'),\n",
       " PhysicalDevice(name='/physical_device:GPU:4', device_type='GPU'),\n",
       " PhysicalDevice(name='/physical_device:GPU:5', device_type='GPU'),\n",
       " PhysicalDevice(name='/physical_device:GPU:6', device_type='GPU'),\n",
       " PhysicalDevice(name='/physical_device:GPU:7', device_type='GPU')]"
      ]
     },
     "execution_count": 1,
     "metadata": {},
     "output_type": "execute_result"
    }
   ],
   "source": [
    "# Import libs and setup environment\n",
    "import tensorflow as tf\n",
    "from tensorflow import keras\n",
    "import numpy as np\n",
    "import matplotlib.pyplot as plt\n",
    "import os\n",
    "\n",
    "from tensorflow.keras.models import Sequential\n",
    "from tensorflow.keras.layers import Conv2D\n",
    "from tensorflow.keras.layers import MaxPooling2D\n",
    "from tensorflow.keras.layers import Dense\n",
    "from tensorflow.keras.layers import Flatten\n",
    "\n",
    "# Set for optimized memory usage\n",
    "# os.environ[\"TF_GPU_ALLOCATOR\"] = \"cuda_malloc_async\"\n",
    "# os.environ[\"NCCL_DEBUG\"] = \"WARN\"\n",
    "\n",
    "# Allow to use whole GPU memory\n",
    "# config = tf.compat.v1.ConfigProto()\n",
    "# config.gpu_options.allow_growth = True\n",
    "\n",
    "tf.config.experimental.list_physical_devices()"
   ]
  },
  {
   "cell_type": "code",
   "execution_count": 2,
   "id": "a9c9a06c-af1a-429a-af2c-9edd43ca2fc4",
   "metadata": {},
   "outputs": [
    {
     "data": {
      "text/plain": [
       "['GPU:0', 'GPU:1', 'GPU:2', 'GPU:3', 'GPU:4', 'GPU:5', 'GPU:6', 'GPU:7']"
      ]
     },
     "execution_count": 2,
     "metadata": {},
     "output_type": "execute_result"
    }
   ],
   "source": [
    "# Extract GPU device names\n",
    "device_type = 'GPU'\n",
    "devices = tf.config.experimental.list_physical_devices(\n",
    "          device_type)\n",
    "devices_names = [d.name.split(\"e:\")[1] for d in devices]\n",
    "devices_names"
   ]
  },
  {
   "cell_type": "code",
   "execution_count": 3,
   "id": "b415917c-a91c-44f1-8452-a3ac22acde28",
   "metadata": {},
   "outputs": [
    {
     "data": {
      "text/plain": [
       "((50000, 32, 32, 3), (10000, 32, 32, 3))"
      ]
     },
     "execution_count": 3,
     "metadata": {},
     "output_type": "execute_result"
    }
   ],
   "source": [
    "# Image recognition dataset for 10 class prediction\n",
    "# https://www.cs.toronto.edu/~kriz/cifar.html\n",
    "# Image has 32x32x3 resolution\n",
    "(X_train, y_train), (X_test, y_test) = keras.datasets.cifar10.load_data()\n",
    "X_train.shape, X_test.shape"
   ]
  },
  {
   "cell_type": "code",
   "execution_count": 4,
   "id": "d9b0934e-e543-4ce4-a216-596b40b4ba9d",
   "metadata": {},
   "outputs": [],
   "source": [
    "# Scaling image values between 0-1\n",
    "X_train_scaled = X_train/255\n",
    "X_test_scaled = X_test/255"
   ]
  },
  {
   "cell_type": "code",
   "execution_count": 5,
   "id": "7c5e159c-114d-48fe-9b9d-cdad612e018d",
   "metadata": {},
   "outputs": [],
   "source": [
    "# One hot encoding labels\n",
    "y_train_encoded = keras.utils.to_categorical(y_train, num_classes = 10, dtype = 'float32')\n",
    "y_test_encoded = keras.utils.to_categorical(y_test, num_classes = 10, dtype = 'float32')"
   ]
  },
  {
   "cell_type": "code",
   "execution_count": 6,
   "id": "00bc97ff-b52c-44ee-8251-90a3a98c0e6d",
   "metadata": {},
   "outputs": [],
   "source": [
    "def get_model():\n",
    "    '''\n",
    "    Create simple deep model. 3 hidden layers. \n",
    "    '''\n",
    "    strategy = tf.distribute.MirroredStrategy(\n",
    "           devices=devices_names)\n",
    "    with strategy.scope():\n",
    "        model = keras.Sequential([\n",
    "            keras.layers.Flatten(input_shape=(32,32,3)),\n",
    "            keras.layers.Dense(3000, activation='relu'),\n",
    "            keras.layers.Dense(1000, activation='relu'),\n",
    "            keras.layers.Dense(10, activation='sigmoid')    \n",
    "        ])\n",
    "        model.compile(optimizer='SGD',\n",
    "                  loss='categorical_crossentropy',\n",
    "                  metrics=['accuracy'])\n",
    "    return model"
   ]
  },
  {
   "cell_type": "code",
   "execution_count": 7,
   "id": "0afaa789-2a6d-4705-b629-b37f3fab968c",
   "metadata": {},
   "outputs": [],
   "source": [
    "def get_model_cnn():\n",
    "    '''\n",
    "    Create More sophisticated model. Using mirrored distributed training strategy\n",
    "    Reading: https://www.tensorflow.org/guide/distributed_training#mirroredstrategy\n",
    "    '''\n",
    "    strategy = tf.distribute.MirroredStrategy(\n",
    "           devices=devices_names)\n",
    "    with strategy.scope():\n",
    "        model = keras.models.Sequential()\n",
    "        model.add(Conv2D(32, (3, 3), activation='relu', kernel_initializer='he_uniform', padding='same', input_shape=(32, 32, 3)))\n",
    "        model.add(Conv2D(32, (3, 3), activation='relu', kernel_initializer='he_uniform', padding='same'))\n",
    "        model.add(MaxPooling2D((2, 2)))\n",
    "        model.add(Flatten())\n",
    "        model.add(Dense(128, activation='relu', kernel_initializer='he_uniform'))\n",
    "        model.add(Dense(10, activation='softmax'))\n",
    "        # compile model\n",
    "        opt = keras.optimizers.SGD(lr=0.001, momentum=0.9)\n",
    "        model.compile(optimizer=opt, loss='categorical_crossentropy', metrics=['accuracy'])\n",
    "        return model"
   ]
  },
  {
   "cell_type": "code",
   "execution_count": 8,
   "id": "1f017e54-a8e1-427e-8420-91c1f7aa38c3",
   "metadata": {},
   "outputs": [
    {
     "name": "stderr",
     "output_type": "stream",
     "text": [
      "2023-02-17 21:34:40.730487: I tensorflow/core/platform/cpu_feature_guard.cc:193] This TensorFlow binary is optimized with oneAPI Deep Neural Network Library (oneDNN) to use the following CPU instructions in performance-critical operations:  AVX2 FMA\n",
      "To enable them in other operations, rebuild TensorFlow with the appropriate compiler flags.\n",
      "2023-02-17 21:34:47.051156: I tensorflow/core/common_runtime/gpu/gpu_device.cc:1616] Created device /job:localhost/replica:0/task:0/device:GPU:0 with 38406 MB memory:  -> device: 0, name: NVIDIA A100-SXM4-40GB, pci bus id: 0000:07:00.0, compute capability: 8.0\n",
      "2023-02-17 21:34:47.054266: I tensorflow/core/common_runtime/gpu/gpu_device.cc:1616] Created device /job:localhost/replica:0/task:0/device:GPU:1 with 38406 MB memory:  -> device: 1, name: NVIDIA A100-SXM4-40GB, pci bus id: 0000:0f:00.0, compute capability: 8.0\n",
      "2023-02-17 21:34:47.057240: I tensorflow/core/common_runtime/gpu/gpu_device.cc:1616] Created device /job:localhost/replica:0/task:0/device:GPU:2 with 38406 MB memory:  -> device: 2, name: NVIDIA A100-SXM4-40GB, pci bus id: 0000:47:00.0, compute capability: 8.0\n",
      "2023-02-17 21:34:47.064617: I tensorflow/core/common_runtime/gpu/gpu_device.cc:1616] Created device /job:localhost/replica:0/task:0/device:GPU:3 with 38406 MB memory:  -> device: 3, name: NVIDIA A100-SXM4-40GB, pci bus id: 0000:4e:00.0, compute capability: 8.0\n",
      "2023-02-17 21:34:47.067488: I tensorflow/core/common_runtime/gpu/gpu_device.cc:1616] Created device /job:localhost/replica:0/task:0/device:GPU:4 with 38406 MB memory:  -> device: 4, name: NVIDIA A100-SXM4-40GB, pci bus id: 0000:87:00.0, compute capability: 8.0\n",
      "2023-02-17 21:34:47.070319: I tensorflow/core/common_runtime/gpu/gpu_device.cc:1616] Created device /job:localhost/replica:0/task:0/device:GPU:5 with 38406 MB memory:  -> device: 5, name: NVIDIA A100-SXM4-40GB, pci bus id: 0000:90:00.0, compute capability: 8.0\n",
      "2023-02-17 21:34:47.073194: I tensorflow/core/common_runtime/gpu/gpu_device.cc:1616] Created device /job:localhost/replica:0/task:0/device:GPU:6 with 38406 MB memory:  -> device: 6, name: NVIDIA A100-SXM4-40GB, pci bus id: 0000:b7:00.0, compute capability: 8.0\n",
      "2023-02-17 21:34:47.076013: I tensorflow/core/common_runtime/gpu/gpu_device.cc:1616] Created device /job:localhost/replica:0/task:0/device:GPU:7 with 38406 MB memory:  -> device: 7, name: NVIDIA A100-SXM4-40GB, pci bus id: 0000:bd:00.0, compute capability: 8.0\n"
     ]
    },
    {
     "name": "stdout",
     "output_type": "stream",
     "text": [
      "INFO:tensorflow:Using MirroredStrategy with devices ('/job:localhost/replica:0/task:0/device:GPU:0', '/job:localhost/replica:0/task:0/device:GPU:1', '/job:localhost/replica:0/task:0/device:GPU:2', '/job:localhost/replica:0/task:0/device:GPU:3', '/job:localhost/replica:0/task:0/device:GPU:4', '/job:localhost/replica:0/task:0/device:GPU:5', '/job:localhost/replica:0/task:0/device:GPU:6', '/job:localhost/replica:0/task:0/device:GPU:7')\n",
      "INFO:tensorflow:Reduce to /job:localhost/replica:0/task:0/device:CPU:0 then broadcast to ('/job:localhost/replica:0/task:0/device:CPU:0',).\n",
      "INFO:tensorflow:Reduce to /job:localhost/replica:0/task:0/device:CPU:0 then broadcast to ('/job:localhost/replica:0/task:0/device:CPU:0',).\n",
      "INFO:tensorflow:Reduce to /job:localhost/replica:0/task:0/device:CPU:0 then broadcast to ('/job:localhost/replica:0/task:0/device:CPU:0',).\n",
      "INFO:tensorflow:Reduce to /job:localhost/replica:0/task:0/device:CPU:0 then broadcast to ('/job:localhost/replica:0/task:0/device:CPU:0',).\n"
     ]
    },
    {
     "name": "stderr",
     "output_type": "stream",
     "text": [
      "/opt/conda/lib/python3.8/site-packages/keras/optimizers/optimizer_v2/gradient_descent.py:111: UserWarning: The `lr` argument is deprecated, use `learning_rate` instead.\n",
      "  super().__init__(name, **kwargs)\n"
     ]
    }
   ],
   "source": [
    "m = get_model_cnn()"
   ]
  },
  {
   "cell_type": "code",
   "execution_count": null,
   "id": "2773b3c2-f4fb-4d42-a879-5f372fa7cb6d",
   "metadata": {},
   "outputs": [],
   "source": [
    "m.fit()"
   ]
  },
  {
   "cell_type": "code",
   "execution_count": 17,
   "id": "133b484a-c72b-4077-9eac-72b6196feb2d",
   "metadata": {},
   "outputs": [
    {
     "name": "stdout",
     "output_type": "stream",
     "text": [
      "INFO:tensorflow:Using MirroredStrategy with devices ('/job:localhost/replica:0/task:0/device:GPU:0', '/job:localhost/replica:0/task:0/device:GPU:1', '/job:localhost/replica:0/task:0/device:GPU:2', '/job:localhost/replica:0/task:0/device:GPU:3', '/job:localhost/replica:0/task:0/device:GPU:4', '/job:localhost/replica:0/task:0/device:GPU:5', '/job:localhost/replica:0/task:0/device:GPU:6', '/job:localhost/replica:0/task:0/device:GPU:7')\n",
      "Epoch 1/100\n",
      "196/196 [==============================] - 8s 8ms/step - loss: 1.9678 - accuracy: 0.2979\n",
      "Epoch 2/100\n",
      "196/196 [==============================] - 2s 11ms/step - loss: 1.7502 - accuracy: 0.3866\n",
      "Epoch 3/100\n",
      "196/196 [==============================] - 1s 7ms/step - loss: 1.6521 - accuracy: 0.4193\n",
      "Epoch 4/100\n",
      "196/196 [==============================] - 2s 12ms/step - loss: 1.5554 - accuracy: 0.4527\n",
      "Epoch 5/100\n",
      "196/196 [==============================] - 1s 7ms/step - loss: 1.4887 - accuracy: 0.4764\n",
      "Epoch 6/100\n",
      "196/196 [==============================] - 2s 13ms/step - loss: 1.4376 - accuracy: 0.4956\n",
      "Epoch 7/100\n",
      "196/196 [==============================] - 1s 6ms/step - loss: 1.3926 - accuracy: 0.5116\n",
      "Epoch 8/100\n",
      "196/196 [==============================] - 2s 11ms/step - loss: 1.3460 - accuracy: 0.5285\n",
      "Epoch 9/100\n",
      "196/196 [==============================] - 1s 7ms/step - loss: 1.3016 - accuracy: 0.5447\n",
      "Epoch 10/100\n",
      "196/196 [==============================] - 3s 13ms/step - loss: 1.2638 - accuracy: 0.5585\n",
      "Epoch 11/100\n",
      "196/196 [==============================] - 2s 8ms/step - loss: 1.2347 - accuracy: 0.5682\n",
      "Epoch 12/100\n",
      "196/196 [==============================] - 2s 12ms/step - loss: 1.1959 - accuracy: 0.5809\n",
      "Epoch 13/100\n",
      "196/196 [==============================] - 1s 6ms/step - loss: 1.1695 - accuracy: 0.5924\n",
      "Epoch 14/100\n",
      "196/196 [==============================] - 2s 11ms/step - loss: 1.1452 - accuracy: 0.6033\n",
      "Epoch 15/100\n",
      "196/196 [==============================] - 1s 7ms/step - loss: 1.1165 - accuracy: 0.6116\n",
      "Epoch 16/100\n",
      "196/196 [==============================] - 2s 12ms/step - loss: 1.0985 - accuracy: 0.6180\n",
      "Epoch 17/100\n",
      "196/196 [==============================] - 1s 7ms/step - loss: 1.0769 - accuracy: 0.6254\n",
      "Epoch 18/100\n",
      "196/196 [==============================] - 2s 11ms/step - loss: 1.0552 - accuracy: 0.6359\n",
      "Epoch 19/100\n",
      "196/196 [==============================] - 1s 7ms/step - loss: 1.0309 - accuracy: 0.6421\n",
      "Epoch 20/100\n",
      "196/196 [==============================] - 2s 12ms/step - loss: 1.0118 - accuracy: 0.6504\n",
      "Epoch 21/100\n",
      "196/196 [==============================] - 1s 7ms/step - loss: 0.9917 - accuracy: 0.6551\n",
      "Epoch 22/100\n",
      "196/196 [==============================] - 2s 12ms/step - loss: 0.9718 - accuracy: 0.6644\n",
      "Epoch 23/100\n",
      "196/196 [==============================] - 1s 7ms/step - loss: 0.9527 - accuracy: 0.6710\n",
      "Epoch 24/100\n",
      "196/196 [==============================] - 2s 11ms/step - loss: 0.9397 - accuracy: 0.6754\n",
      "Epoch 25/100\n",
      "196/196 [==============================] - 1s 6ms/step - loss: 0.9181 - accuracy: 0.6839\n",
      "Epoch 26/100\n",
      "196/196 [==============================] - 2s 11ms/step - loss: 0.9030 - accuracy: 0.6902\n",
      "Epoch 27/100\n",
      "196/196 [==============================] - 1s 7ms/step - loss: 0.8881 - accuracy: 0.6932\n",
      "Epoch 28/100\n",
      "196/196 [==============================] - 2s 12ms/step - loss: 0.8714 - accuracy: 0.7011\n",
      "Epoch 29/100\n",
      "196/196 [==============================] - 1s 6ms/step - loss: 0.8504 - accuracy: 0.7074\n",
      "Epoch 30/100\n",
      "196/196 [==============================] - 2s 12ms/step - loss: 0.8395 - accuracy: 0.7123\n",
      "Epoch 31/100\n",
      "196/196 [==============================] - 1s 7ms/step - loss: 0.8256 - accuracy: 0.7168\n",
      "Epoch 32/100\n",
      "196/196 [==============================] - 2s 12ms/step - loss: 0.8068 - accuracy: 0.7239\n",
      "Epoch 33/100\n",
      "196/196 [==============================] - 1s 6ms/step - loss: 0.7909 - accuracy: 0.7299\n",
      "Epoch 34/100\n",
      "196/196 [==============================] - 2s 12ms/step - loss: 0.7815 - accuracy: 0.7325\n",
      "Epoch 35/100\n",
      "196/196 [==============================] - 2s 8ms/step - loss: 0.7617 - accuracy: 0.7401\n",
      "Epoch 36/100\n",
      "196/196 [==============================] - 2s 12ms/step - loss: 0.7435 - accuracy: 0.7459\n",
      "Epoch 37/100\n",
      "196/196 [==============================] - 1s 7ms/step - loss: 0.7409 - accuracy: 0.7475\n",
      "Epoch 38/100\n",
      "196/196 [==============================] - 2s 11ms/step - loss: 0.7183 - accuracy: 0.7567\n",
      "Epoch 39/100\n",
      "196/196 [==============================] - 1s 6ms/step - loss: 0.7062 - accuracy: 0.7594\n",
      "Epoch 40/100\n",
      "196/196 [==============================] - 2s 12ms/step - loss: 0.6893 - accuracy: 0.7656\n",
      "Epoch 41/100\n",
      "196/196 [==============================] - 1s 7ms/step - loss: 0.6691 - accuracy: 0.7756\n",
      "Epoch 42/100\n",
      "196/196 [==============================] - 2s 11ms/step - loss: 0.6614 - accuracy: 0.7766\n",
      "Epoch 43/100\n",
      "196/196 [==============================] - 1s 7ms/step - loss: 0.6425 - accuracy: 0.7842\n",
      "Epoch 44/100\n",
      "196/196 [==============================] - 2s 11ms/step - loss: 0.6322 - accuracy: 0.7878\n",
      "Epoch 45/100\n",
      "196/196 [==============================] - 1s 7ms/step - loss: 0.6156 - accuracy: 0.7936\n",
      "Epoch 46/100\n",
      "196/196 [==============================] - 2s 12ms/step - loss: 0.6052 - accuracy: 0.7966\n",
      "Epoch 47/100\n",
      "196/196 [==============================] - 1s 7ms/step - loss: 0.5944 - accuracy: 0.7997\n",
      "Epoch 48/100\n",
      "196/196 [==============================] - 2s 9ms/step - loss: 0.5824 - accuracy: 0.8048\n",
      "Epoch 49/100\n",
      "196/196 [==============================] - 2s 9ms/step - loss: 0.5698 - accuracy: 0.8105\n",
      "Epoch 50/100\n",
      "196/196 [==============================] - 1s 6ms/step - loss: 0.5513 - accuracy: 0.8168\n",
      "Epoch 51/100\n",
      "196/196 [==============================] - 2s 11ms/step - loss: 0.5450 - accuracy: 0.8173\n",
      "Epoch 52/100\n",
      "196/196 [==============================] - 1s 6ms/step - loss: 0.5263 - accuracy: 0.8248\n",
      "Epoch 53/100\n",
      "196/196 [==============================] - 2s 11ms/step - loss: 0.5186 - accuracy: 0.8281\n",
      "Epoch 54/100\n",
      "196/196 [==============================] - 1s 7ms/step - loss: 0.4957 - accuracy: 0.8364\n",
      "Epoch 55/100\n",
      "196/196 [==============================] - 2s 12ms/step - loss: 0.4910 - accuracy: 0.8383\n",
      "Epoch 56/100\n",
      "196/196 [==============================] - 1s 7ms/step - loss: 0.4778 - accuracy: 0.8434\n",
      "Epoch 57/100\n",
      "196/196 [==============================] - 2s 12ms/step - loss: 0.4665 - accuracy: 0.8484\n",
      "Epoch 58/100\n",
      "196/196 [==============================] - 1s 7ms/step - loss: 0.4533 - accuracy: 0.8518\n",
      "Epoch 59/100\n",
      "196/196 [==============================] - 2s 12ms/step - loss: 0.4367 - accuracy: 0.8564\n",
      "Epoch 60/100\n",
      "196/196 [==============================] - 2s 8ms/step - loss: 0.4193 - accuracy: 0.8664\n",
      "Epoch 61/100\n",
      "196/196 [==============================] - 2s 11ms/step - loss: 0.4120 - accuracy: 0.8678\n",
      "Epoch 62/100\n",
      "196/196 [==============================] - 1s 7ms/step - loss: 0.3945 - accuracy: 0.8747\n",
      "Epoch 63/100\n",
      "196/196 [==============================] - 2s 11ms/step - loss: 0.3812 - accuracy: 0.8797\n",
      "Epoch 64/100\n",
      "196/196 [==============================] - 1s 7ms/step - loss: 0.3686 - accuracy: 0.8841\n",
      "Epoch 65/100\n",
      "196/196 [==============================] - 2s 12ms/step - loss: 0.3557 - accuracy: 0.8896\n",
      "Epoch 66/100\n",
      "196/196 [==============================] - 1s 7ms/step - loss: 0.3470 - accuracy: 0.8921\n",
      "Epoch 67/100\n",
      "196/196 [==============================] - 2s 12ms/step - loss: 0.3295 - accuracy: 0.8985\n",
      "Epoch 68/100\n",
      "196/196 [==============================] - 1s 7ms/step - loss: 0.3212 - accuracy: 0.9010\n",
      "Epoch 69/100\n",
      "196/196 [==============================] - 2s 11ms/step - loss: 0.3087 - accuracy: 0.9064\n",
      "Epoch 70/100\n",
      "196/196 [==============================] - 1s 7ms/step - loss: 0.3035 - accuracy: 0.9071\n",
      "Epoch 71/100\n",
      "196/196 [==============================] - 2s 12ms/step - loss: 0.2887 - accuracy: 0.9133\n",
      "Epoch 72/100\n",
      "196/196 [==============================] - 1s 6ms/step - loss: 0.2712 - accuracy: 0.9215\n",
      "Epoch 73/100\n",
      "196/196 [==============================] - 2s 12ms/step - loss: 0.2653 - accuracy: 0.9227\n",
      "Epoch 74/100\n",
      "196/196 [==============================] - 1s 7ms/step - loss: 0.2539 - accuracy: 0.9270\n",
      "Epoch 75/100\n",
      "196/196 [==============================] - 2s 11ms/step - loss: 0.2454 - accuracy: 0.9288\n",
      "Epoch 76/100\n",
      "196/196 [==============================] - 1s 7ms/step - loss: 0.2359 - accuracy: 0.9320\n",
      "Epoch 77/100\n",
      "196/196 [==============================] - 2s 12ms/step - loss: 0.2177 - accuracy: 0.9406\n",
      "Epoch 78/100\n",
      "196/196 [==============================] - 1s 6ms/step - loss: 0.2047 - accuracy: 0.9456\n",
      "Epoch 79/100\n",
      "196/196 [==============================] - 2s 12ms/step - loss: 0.2028 - accuracy: 0.9452\n",
      "Epoch 80/100\n",
      "196/196 [==============================] - 1s 6ms/step - loss: 0.1934 - accuracy: 0.9483\n",
      "Epoch 81/100\n",
      "196/196 [==============================] - 2s 11ms/step - loss: 0.1857 - accuracy: 0.9512\n",
      "Epoch 82/100\n",
      "196/196 [==============================] - 1s 7ms/step - loss: 0.1773 - accuracy: 0.9534\n",
      "Epoch 83/100\n",
      "196/196 [==============================] - 2s 12ms/step - loss: 0.1700 - accuracy: 0.9566\n",
      "Epoch 84/100\n",
      "196/196 [==============================] - 1s 6ms/step - loss: 0.1503 - accuracy: 0.9657\n",
      "Epoch 85/100\n",
      "196/196 [==============================] - 2s 13ms/step - loss: 0.1530 - accuracy: 0.9622\n",
      "Epoch 86/100\n",
      "196/196 [==============================] - 1s 7ms/step - loss: 0.1412 - accuracy: 0.9674\n",
      "Epoch 87/100\n",
      "196/196 [==============================] - 2s 12ms/step - loss: 0.1328 - accuracy: 0.9703\n",
      "Epoch 88/100\n",
      "196/196 [==============================] - 1s 7ms/step - loss: 0.1318 - accuracy: 0.9701\n",
      "Epoch 89/100\n",
      "196/196 [==============================] - 2s 11ms/step - loss: 0.1149 - accuracy: 0.9775\n",
      "Epoch 90/100\n",
      "196/196 [==============================] - 1s 7ms/step - loss: 0.1092 - accuracy: 0.9792\n",
      "Epoch 91/100\n",
      "196/196 [==============================] - 2s 11ms/step - loss: 0.1081 - accuracy: 0.9786\n",
      "Epoch 92/100\n",
      "196/196 [==============================] - 1s 6ms/step - loss: 0.0986 - accuracy: 0.9821\n",
      "Epoch 93/100\n",
      "196/196 [==============================] - 2s 8ms/step - loss: 0.0965 - accuracy: 0.9818\n",
      "Epoch 94/100\n",
      "196/196 [==============================] - 2s 10ms/step - loss: 0.0842 - accuracy: 0.9868\n",
      "Epoch 95/100\n",
      "196/196 [==============================] - 1s 7ms/step - loss: 0.0815 - accuracy: 0.9871\n",
      "Epoch 96/100\n",
      "196/196 [==============================] - 2s 12ms/step - loss: 0.0775 - accuracy: 0.9878\n",
      "Epoch 97/100\n",
      "196/196 [==============================] - 1s 6ms/step - loss: 0.0794 - accuracy: 0.9868\n",
      "Epoch 98/100\n",
      "196/196 [==============================] - 2s 11ms/step - loss: 0.0677 - accuracy: 0.9908\n",
      "Epoch 99/100\n",
      "196/196 [==============================] - 1s 7ms/step - loss: 0.0678 - accuracy: 0.9902\n",
      "Epoch 100/100\n",
      "196/196 [==============================] - 2s 11ms/step - loss: 0.0593 - accuracy: 0.9927\n"
     ]
    },
    {
     "data": {
      "text/plain": [
       "<keras.callbacks.History at 0x7f74c03445b0>"
      ]
     },
     "execution_count": 17,
     "metadata": {},
     "output_type": "execute_result"
    }
   ],
   "source": [
    "# MultiGPU prediction. Run nvidia-smi command in another terminal tab to check GPU ussage\n",
    "batch_size_per_gpu = 32\n",
    "n_gpus = len(devices_names)\n",
    "model_gpu = get_model_cnn()\n",
    "model_gpu.fit(X_train_scaled, y_train_encoded, epochs=100, batch_size=batch_size_per_gpu * n_gpus)"
   ]
  },
  {
   "cell_type": "code",
   "execution_count": null,
   "id": "c639d608-f4f0-4063-9ed6-77bf43592bb5",
   "metadata": {},
   "outputs": [],
   "source": [
    "# CPU only prediction\n",
    "%%timeit -n1 -r1\n",
    "# CPU\n",
    "with tf.device('/CPU:0'):\n",
    "    model_cpu = get_model()\n",
    "    model_cpu.fit(X_train_scaled, y_train_encoded, epochs = 1)"
   ]
  },
  {
   "cell_type": "code",
   "execution_count": 9,
   "id": "bb4256de-d23a-4f0c-bcc2-1926de1bd2cc",
   "metadata": {},
   "outputs": [
    {
     "name": "stdout",
     "output_type": "stream",
     "text": [
      "INFO:tensorflow:Using MirroredStrategy with devices ('/job:localhost/replica:0/task:0/device:GPU:0', '/job:localhost/replica:0/task:0/device:GPU:1')\n",
      "INFO:tensorflow:Reduce to /job:localhost/replica:0/task:0/device:CPU:0 then broadcast to ('/job:localhost/replica:0/task:0/device:CPU:0',).\n",
      "INFO:tensorflow:Reduce to /job:localhost/replica:0/task:0/device:CPU:0 then broadcast to ('/job:localhost/replica:0/task:0/device:CPU:0',).\n",
      "INFO:tensorflow:Reduce to /job:localhost/replica:0/task:0/device:CPU:0 then broadcast to ('/job:localhost/replica:0/task:0/device:CPU:0',).\n",
      "INFO:tensorflow:Reduce to /job:localhost/replica:0/task:0/device:CPU:0 then broadcast to ('/job:localhost/replica:0/task:0/device:CPU:0',).\n"
     ]
    },
    {
     "name": "stderr",
     "output_type": "stream",
     "text": [
      "2022-10-06 09:31:07.019013: I tensorflow/core/platform/cpu_feature_guard.cc:193] This TensorFlow binary is optimized with oneAPI Deep Neural Network Library (oneDNN) to use the following CPU instructions in performance-critical operations:  AVX2 AVX512F FMA\n",
      "To enable them in other operations, rebuild TensorFlow with the appropriate compiler flags.\n",
      "2022-10-06 09:31:08.332506: I tensorflow/core/common_runtime/gpu/gpu_process_state.cc:222] Using CUDA malloc Async allocator for GPU: 0\n",
      "2022-10-06 09:31:08.332701: I tensorflow/core/common_runtime/gpu/gpu_device.cc:1616] Created device /job:localhost/replica:0/task:0/device:GPU:0 with 216 MB memory:  -> device: 0, name: Tesla V100-SXM3-32GB, pci bus id: 0000:34:00.0, compute capability: 7.0\n",
      "2022-10-06 09:31:08.334204: I tensorflow/core/common_runtime/gpu/gpu_process_state.cc:222] Using CUDA malloc Async allocator for GPU: 1\n",
      "2022-10-06 09:31:08.334270: I tensorflow/core/common_runtime/gpu/gpu_device.cc:1616] Created device /job:localhost/replica:0/task:0/device:GPU:1 with 342 MB memory:  -> device: 1, name: Tesla V100-SXM3-32GB, pci bus id: 0000:36:00.0, compute capability: 7.0\n"
     ]
    },
    {
     "name": "stdout",
     "output_type": "stream",
     "text": [
      "Epoch 1/10\n",
      "INFO:tensorflow:batch_all_reduce: 6 all-reduces with algorithm = nccl, num_packs = 1\n",
      "INFO:tensorflow:Reduce to /job:localhost/replica:0/task:0/device:CPU:0 then broadcast to ('/job:localhost/replica:0/task:0/device:CPU:0',).\n",
      "INFO:tensorflow:Reduce to /job:localhost/replica:0/task:0/device:CPU:0 then broadcast to ('/job:localhost/replica:0/task:0/device:CPU:0',).\n",
      "INFO:tensorflow:Reduce to /job:localhost/replica:0/task:0/device:CPU:0 then broadcast to ('/job:localhost/replica:0/task:0/device:CPU:0',).\n",
      "INFO:tensorflow:Reduce to /job:localhost/replica:0/task:0/device:CPU:0 then broadcast to ('/job:localhost/replica:0/task:0/device:CPU:0',).\n",
      "INFO:tensorflow:Reduce to /job:localhost/replica:0/task:0/device:CPU:0 then broadcast to ('/job:localhost/replica:0/task:0/device:CPU:0',).\n",
      "INFO:tensorflow:batch_all_reduce: 6 all-reduces with algorithm = nccl, num_packs = 1\n",
      "INFO:tensorflow:Reduce to /job:localhost/replica:0/task:0/device:CPU:0 then broadcast to ('/job:localhost/replica:0/task:0/device:CPU:0',).\n",
      "NCCL version 2.12.12+cudaCUDA_MAJOR.CUDA_MINOR\n",
      "\n",
      "test-gpu-notebook-0:10459:10934 [0] bazel-out/k8-opt/bin/external/nccl_archive/_virtual_includes/include_hdrs/alloc.h:70 NCCL WARN Cuda failure 'out of memory'\n",
      "\n",
      "test-gpu-notebook-0:10459:10934 [0] external/nccl_archive/src/proxy.cc:1040 NCCL WARN [Proxy Service 0] Failed to execute operation SharedInit from rank 0, retcode 1\n",
      "16/16 [==============================] - 4s 8ms/step - loss: 2.2795 - accuracy: 0.1620\n",
      "Epoch 2/10\n",
      "16/16 [==============================] - 0s 8ms/step - loss: 2.1385 - accuracy: 0.2180\n",
      "Epoch 3/10\n",
      "16/16 [==============================] - 0s 8ms/step - loss: 2.0454 - accuracy: 0.2780\n",
      "Epoch 4/10\n",
      "16/16 [==============================] - 0s 8ms/step - loss: 1.9710 - accuracy: 0.2940\n",
      "Epoch 5/10\n",
      "16/16 [==============================] - 0s 8ms/step - loss: 1.8560 - accuracy: 0.3460\n",
      "Epoch 6/10\n",
      "16/16 [==============================] - 0s 8ms/step - loss: 1.8398 - accuracy: 0.3660\n",
      "Epoch 7/10\n",
      "16/16 [==============================] - 0s 8ms/step - loss: 1.7847 - accuracy: 0.3840\n",
      "Epoch 8/10\n",
      "16/16 [==============================] - 0s 8ms/step - loss: 1.7592 - accuracy: 0.3920\n",
      "Epoch 9/10\n",
      "16/16 [==============================] - 0s 8ms/step - loss: 1.6965 - accuracy: 0.3960\n",
      "Epoch 10/10\n",
      "16/16 [==============================] - 0s 8ms/step - loss: 1.6683 - accuracy: 0.4300\n",
      "7.22 s ± 0 ns per loop (mean ± std. dev. of 1 run, 1 loop each)\n"
     ]
    }
   ],
   "source": [
    "# Single GPU example\n",
    "%%timeit -n1 -r1\n",
    "# GPU\n",
    "with tf.device('GPU:0'):\n",
    "    model_gpu = get_model()\n",
    "    model_gpu.fit(X_train_scaled[:500], y_train_encoded[:500], epochs = 10)"
   ]
  },
  {
   "cell_type": "code",
   "execution_count": 13,
   "id": "b447961d-dbca-4086-a047-0d3b24658265",
   "metadata": {},
   "outputs": [
    {
     "name": "stdout",
     "output_type": "stream",
     "text": [
      "1563/1563 [==============================] - 18s 11ms/step\n"
     ]
    },
    {
     "data": {
      "text/plain": [
       "array([[3.9844909e-03, 2.0822229e-04, 1.4139652e-02, ..., 5.5011438e-04,\n",
       "        7.4595697e-03, 7.5909849e-03],\n",
       "       [7.7995681e-03, 7.6944524e-01, 3.5332184e-06, ..., 9.9429064e-07,\n",
       "        1.8379286e-01, 3.8945921e-02],\n",
       "       [7.0480712e-02, 1.6722994e-01, 2.8469465e-03, ..., 7.3819066e-04,\n",
       "        5.4288960e-01, 2.0992452e-01],\n",
       "       ...,\n",
       "       [8.9241883e-05, 9.0138319e-06, 8.3996855e-02, ..., 4.2369706e-03,\n",
       "        2.7003358e-04, 6.4079111e-05],\n",
       "       [2.8460411e-02, 5.3601044e-01, 1.8379822e-02, ..., 1.3022214e-04,\n",
       "        9.0050288e-03, 2.1574055e-03],\n",
       "       [6.6487199e-05, 5.2376394e-04, 3.0200728e-03, ..., 9.1520762e-01,\n",
       "        3.6907738e-06, 1.1142212e-03]], dtype=float32)"
      ]
     },
     "execution_count": 13,
     "metadata": {},
     "output_type": "execute_result"
    }
   ],
   "source": [
    "model_gpu.predict(np.concatenate([X_test_scaled, X_test_scaled, X_test_scaled, X_test_scaled, X_test_scaled])) # We multiplied the X_test to check GPU usage"
   ]
  }
 ],
 "metadata": {
  "kernelspec": {
   "display_name": "Python 3 (ipykernel)",
   "language": "python",
   "name": "python3"
  },
  "language_info": {
   "codemirror_mode": {
    "name": "ipython",
    "version": 3
   },
   "file_extension": ".py",
   "mimetype": "text/x-python",
   "name": "python",
   "nbconvert_exporter": "python",
   "pygments_lexer": "ipython3",
   "version": "3.8.10"
  },
  "vscode": {
   "interpreter": {
    "hash": "635db5889a8e7f14dda695c20229a76694a8038f010b71edc7a46486e7214d7d"
   }
  }
 },
 "nbformat": 4,
 "nbformat_minor": 5
}
